{
  "cells": [
    {
      "cell_type": "markdown",
      "metadata": {
        "colab_type": "text",
        "id": "view-in-github"
      },
      "source": [
        "<a href=\"https://colab.research.google.com/github/Huanshere/SubMagic/blob/main/Colab_SubMagic.ipynb\" target=\"_parent\"><img src=\"https://colab.research.google.com/assets/colab-badge.svg\" alt=\"Open In Colab\"/></a>"
      ]
    },
    {
      "cell_type": "code",
      "execution_count": null,
      "metadata": {
        "colab": {
          "base_uri": "https://localhost:8080/"
        },
        "id": "WJYu5pUkZxQI",
        "outputId": "056c1cd6-ce09-4d6a-a83a-9e5b09cef8df"
      },
      "outputs": [],
      "source": [
        "!git clone https://github.com/Huanshere/VideoLingo.git"
      ]
    },
    {
      "cell_type": "code",
      "execution_count": null,
      "metadata": {
        "colab": {
          "base_uri": "https://localhost:8080/"
        },
        "id": "01dQELlydBqr",
        "outputId": "ae0bfbdf-c6a8-4540-9776-423caae5f9eb"
      },
      "outputs": [],
      "source": [
        "%cd VideoLingo"
      ]
    },
    {
      "cell_type": "markdown",
      "metadata": {
        "id": "EoScXW5Vl20_"
      },
      "source": [
        "#### Enter your api_key and set the language in `config.py`"
      ]
    },
    {
      "cell_type": "code",
      "execution_count": null,
      "metadata": {
        "colab": {
          "base_uri": "https://localhost:8080/"
        },
        "id": "XnUh8s5_bBfj",
        "outputId": "6471d63b-315c-4460-9cfa-98175729c0d1"
      },
      "outputs": [],
      "source": [
        "!python install.py"
      ]
    },
    {
      "cell_type": "markdown",
      "metadata": {
        "id": "1f3XowzYZaUm"
      },
      "source": [
        "#### 1. Download YouTube videos 🔗📥🎥\n",
        "(or automatically skip if you have placed the video in the root directory)\n",
        "\n",
        "to test, you can try: https://www.youtube.com/watch?v=_inKs4eeHiI&t=19s&pp=ygUNa3VuZ2Z1IHBhbmRhcw%3D%3D"
      ]
    },
    {
      "cell_type": "code",
      "execution_count": null,
      "metadata": {
        "colab": {
          "base_uri": "https://localhost:8080/"
        },
        "id": "8_M9W6XVZaUn",
        "outputId": "20c7cec3-196f-4f50-8d6a-edaaf9baa0f4"
      },
      "outputs": [],
      "source": [
        "import glob\n",
        "if not glob.glob(\"*.mp4\") + glob.glob(\"*.webm\"):\n",
        "    from core.step1_ytdlp import download_video_ytdlp\n",
        "    url = input(\"🔗 Please enter the youtube URL of the video:\")\n",
        "    download_video_ytdlp(url, save_path='./')"
      ]
    },
    {
      "cell_type": "markdown",
      "metadata": {
        "id": "MWdCtF1AZaUn"
      },
      "source": [
        "#### 2. Whisper Speech-to-Text 🎤🔀📝\n",
        "cpu will take a lot of time. recommend to use gpu"
      ]
    },
    {
      "cell_type": "code",
      "execution_count": null,
      "metadata": {
        "colab": {
          "base_uri": "https://localhost:8080/"
        },
        "id": "-nlmvsdiZaUo",
        "outputId": "c17af71e-14cf-43c0-a5a9-3e3e3cf447e6"
      },
      "outputs": [],
      "source": [
        "import glob, os\n",
        "video_file = (glob.glob(\"*.mp4\") + glob.glob(\"*.webm\"))[0]\n",
        "\n",
        "if not os.path.exists(\"output/log/cleaned_chunks.xlsx\"):\n",
        "    from core.step2_whisper_stamped import transcript\n",
        "    transcript(video_file)"
      ]
    },
    {
      "cell_type": "markdown",
      "metadata": {
        "id": "nlb96mhdZaUo"
      },
      "source": [
        "#### 3. Split Sentences using both NLP and LLM 🤖🧠✂️"
      ]
    },
    {
      "cell_type": "code",
      "execution_count": null,
      "metadata": {
        "colab": {
          "base_uri": "https://localhost:8080/"
        },
        "id": "O6JVyW80ZaUo",
        "outputId": "888b1186-763b-4ad4-f64d-734730ea69d9"
      },
      "outputs": [],
      "source": [
        "import os\n",
        "if not os.path.exists(\"output/log/sentence_splitbymark.txt\"):\n",
        "    from core.step3_1_spacy_split import split_by_spacy\n",
        "    split_by_spacy()\n",
        "\n",
        "from core.step3_2_splitbymeaning import split_sentences_by_meaning\n",
        "split_sentences_by_meaning()"
      ]
    },
    {
      "cell_type": "markdown",
      "metadata": {
        "id": "Q3hH8_XPZaUo"
      },
      "source": [
        "#### 4. Summarize and 3-stage Translate 🌐🔄📚\n",
        "If there's an error 😱, somtimes rerun this block will help."
      ]
    },
    {
      "cell_type": "code",
      "execution_count": null,
      "metadata": {
        "colab": {
          "base_uri": "https://localhost:8080/"
        },
        "id": "EWb9WpwVZaUo",
        "outputId": "f768ab4c-84e1-4c1a-da1e-2506e57e6570"
      },
      "outputs": [],
      "source": [
        "from core.step4_1_summarize import get_summary\n",
        "get_summary()\n",
        "\n",
        "from core.step4_2_translate_all import translate_all\n",
        "translate_all()"
      ]
    },
    {
      "cell_type": "markdown",
      "metadata": {
        "id": "1V1XQEMhZaUo"
      },
      "source": [
        "#### 5. Trim Excessively Long Subtitles According to Length Criteria 📏✂️📄"
      ]
    },
    {
      "cell_type": "code",
      "execution_count": null,
      "metadata": {
        "colab": {
          "base_uri": "https://localhost:8080/"
        },
        "id": "P7WAvloOZaUo",
        "outputId": "f199de5e-0736-4b11-da66-598242dc3831"
      },
      "outputs": [],
      "source": [
        "from core.step5_splitforsub import split_for_sub_main\n",
        "split_for_sub_main()"
      ]
    },
    {
      "cell_type": "markdown",
      "metadata": {
        "id": "wEY_SaXsZaUo"
      },
      "source": [
        "#### 6. Align to Generate Timeline and Final Subtitles ⏱️📅🎬"
      ]
    },
    {
      "cell_type": "code",
      "execution_count": null,
      "metadata": {
        "colab": {
          "base_uri": "https://localhost:8080/"
        },
        "id": "-BW7khEWZaUp",
        "outputId": "3fa7b2dd-e800-4493-9fa7-926d6252b74c"
      },
      "outputs": [],
      "source": [
        "from core.step6_generate_final_timeline import align_timestamp_main\n",
        "align_timestamp_main()"
      ]
    },
    {
      "cell_type": "markdown",
      "metadata": {
        "id": "7C8XUuS-ZaUp"
      },
      "source": [
        "#### 7. Merge subtitles to video 🎬🔀🎥\n",
        "\n",
        "may take 1 min for 2 mins video in colab\n",
        "\n"
      ]
    },
    {
      "cell_type": "code",
      "execution_count": null,
      "metadata": {
        "colab": {
          "base_uri": "https://localhost:8080/"
        },
        "id": "IAn0eLxWZaUp",
        "outputId": "3e9fa04a-6a96-48c1-c47e-3424dff58e47"
      },
      "outputs": [],
      "source": [
        "from core.step7_merge_sub_to_vid import merge_subtitles_to_video\n",
        "merge_subtitles_to_video()"
      ]
    },
    {
      "cell_type": "code",
      "execution_count": null,
      "metadata": {
        "id": "J9wOcjMTAkXL"
      },
      "outputs": [],
      "source": [
        "# save output/output_video_with_subs.mp4 and output/bilingual_trans_en_subtitles.srt\n",
        "from google.colab import files\n",
        "files.download('output/output_video_with_subs.mp4')\n",
        "files.download('output/bilingual_trans_en_subtitles.srt')"
      ]
    }
  ],
  "metadata": {
    "accelerator": "GPU",
    "colab": {
      "gpuType": "T4",
      "include_colab_link": true,
      "provenance": []
    },
    "kernelspec": {
      "display_name": "Python 3",
      "name": "python3"
    },
    "language_info": {
      "codemirror_mode": {
        "name": "ipython",
        "version": 3
      },
      "file_extension": ".py",
      "mimetype": "text/x-python",
      "name": "python",
      "nbconvert_exporter": "python",
      "pygments_lexer": "ipython3",
      "version": "3.12.4"
    }
  },
  "nbformat": 4,
  "nbformat_minor": 0
}
